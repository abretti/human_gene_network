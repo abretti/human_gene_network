{
 "cells": [
  {
   "cell_type": "code",
   "execution_count": 1,
   "id": "c097643c-d80d-48ab-91f9-54e581b10f6e",
   "metadata": {
    "tags": []
   },
   "outputs": [],
   "source": [
    "# Import libraries\n",
    "import numpy as np\n",
    "import pandas as pd\n",
    "from urllib.request import urlopen\n",
    "import xml.etree.ElementTree as ET"
   ]
  },
  {
   "cell_type": "code",
   "execution_count": 2,
   "id": "d0c94879-bf42-4c78-b84d-b46b5a002362",
   "metadata": {
    "tags": []
   },
   "outputs": [
    {
     "name": "stdout",
     "output_type": "stream",
     "text": [
      "The first five human pathways are  ['hsa01100', 'hsa01200', 'hsa01210', 'hsa01212', 'hsa01230']\n"
     ]
    }
   ],
   "source": [
    "# Get a list of all human pathways\n",
    "path_list = []\n",
    "pathway_hsa = urlopen('https://rest.kegg.jp/list/pathway/hsa').read().decode('utf-8')\n",
    "pathway_hsa = pathway_hsa.split('\\n')\n",
    "for line in pathway_hsa:\n",
    "    line = line.split('\\t')\n",
    "    path_list.append(line[0])\n",
    "print('The first five human pathways are ', path_list[0:5])"
   ]
  },
  {
   "cell_type": "code",
   "execution_count": 3,
   "id": "c462c6d3-ec7b-4287-b13a-f70e6a4a79fd",
   "metadata": {
    "tags": []
   },
   "outputs": [
    {
     "data": {
      "text/html": [
       "<div>\n",
       "<style scoped>\n",
       "    .dataframe tbody tr th:only-of-type {\n",
       "        vertical-align: middle;\n",
       "    }\n",
       "\n",
       "    .dataframe tbody tr th {\n",
       "        vertical-align: top;\n",
       "    }\n",
       "\n",
       "    .dataframe thead th {\n",
       "        text-align: right;\n",
       "    }\n",
       "</style>\n",
       "<table border=\"1\" class=\"dataframe\">\n",
       "  <thead>\n",
       "    <tr style=\"text-align: right;\">\n",
       "      <th></th>\n",
       "      <th>source</th>\n",
       "      <th>target</th>\n",
       "      <th>type</th>\n",
       "    </tr>\n",
       "  </thead>\n",
       "  <tbody>\n",
       "    <tr>\n",
       "      <th>0</th>\n",
       "      <td>hsa:130589</td>\n",
       "      <td>hsa:3098</td>\n",
       "      <td>ECrel</td>\n",
       "    </tr>\n",
       "    <tr>\n",
       "      <th>1</th>\n",
       "      <td>hsa:130589</td>\n",
       "      <td>hsa:3099</td>\n",
       "      <td>ECrel</td>\n",
       "    </tr>\n",
       "    <tr>\n",
       "      <th>2</th>\n",
       "      <td>hsa:130589</td>\n",
       "      <td>hsa:3101</td>\n",
       "      <td>ECrel</td>\n",
       "    </tr>\n",
       "    <tr>\n",
       "      <th>3</th>\n",
       "      <td>hsa:130589</td>\n",
       "      <td>hsa:80201</td>\n",
       "      <td>ECrel</td>\n",
       "    </tr>\n",
       "    <tr>\n",
       "      <th>4</th>\n",
       "      <td>hsa:130589</td>\n",
       "      <td>hsa:2645</td>\n",
       "      <td>ECrel</td>\n",
       "    </tr>\n",
       "  </tbody>\n",
       "</table>\n",
       "</div>"
      ],
      "text/plain": [
       "       source     target   type\n",
       "0  hsa:130589   hsa:3098  ECrel\n",
       "1  hsa:130589   hsa:3099  ECrel\n",
       "2  hsa:130589   hsa:3101  ECrel\n",
       "3  hsa:130589  hsa:80201  ECrel\n",
       "4  hsa:130589   hsa:2645  ECrel"
      ]
     },
     "execution_count": 3,
     "metadata": {},
     "output_type": "execute_result"
    }
   ],
   "source": [
    "# Define a function called network_table with two inputs: the webpage for a KEGG pathway kgml file and the current network table\n",
    "# The function appends new interactions to the network table and then outputs that updated table\n",
    "def network_table(webpage, network):\n",
    "    \n",
    "    # Import data\n",
    "    with urlopen(webpage) as f:\n",
    "        root = ET.parse(f).getroot()\n",
    "        \n",
    "    # Create a dataframe for all of the reactions in the xml file\n",
    "    reaction_list = []\n",
    "    for x in root.iter('relation'):\n",
    "        reaction_list.append(x.attrib)\n",
    "    if len(reaction_list)==0:\n",
    "        return None\n",
    "    else:\n",
    "        reaction_df = pd.DataFrame(reaction_list)\n",
    "        reaction_df.head()\n",
    "        \n",
    "    # Create a dictionary linking each entry ID to a KEGG ID\n",
    "    id_list = []\n",
    "    for x in root.iter('entry'):\n",
    "        id_list.append(x.attrib)\n",
    "    id_df = pd.DataFrame(id_list)\n",
    "    id_dict = dict(zip(id_df['id'], id_df['name']))\n",
    "    \n",
    "    # Replace the entry IDs in the reaction dataframe with the KEGG IDs\n",
    "    if 'entry1' in reaction_df.columns:\n",
    "        reaction_df['entry1'].replace(to_replace = id_dict, inplace = True)\n",
    "\n",
    "    if 'entry2' in reaction_df.columns:\n",
    "        reaction_df['entry2'].replace(to_replace = id_dict, inplace = True)\n",
    "        \n",
    "    # Create the network table\n",
    "    for i in range(len(reaction_df)):\n",
    "        sources = reaction_df.loc[i, 'entry1'].split(' ')\n",
    "        targets = reaction_df.loc[i, 'entry2'].split(' ')\n",
    "        for source in sources:\n",
    "            if (source[:3]=='cpd') or (source[:3]=='hsa'):\n",
    "                for target in targets:\n",
    "                    if (target[:3]=='cpd') or (target[:3]=='hsa'):\n",
    "                        reaction_type = reaction_df.loc[i, 'type']\n",
    "                        if [source, target, reaction_type] not in network:\n",
    "                            network.append([source, target, reaction_type])\n",
    "    \n",
    "    return network\n",
    "\n",
    "# Call the network_table function for each path in the list of human pathways\n",
    "network_list = []\n",
    "for path in path_list:\n",
    "    if len(path)>0:\n",
    "        kegg_webpage = 'https://rest.kegg.jp/get/' + path + '/kgml'\n",
    "        network_table(kegg_webpage, network_list)\n",
    "\n",
    "network_df = pd.DataFrame(network_list, columns = ['source', 'target', 'type'])\n",
    "network_df.head()"
   ]
  },
  {
   "cell_type": "code",
   "execution_count": 4,
   "id": "2bc3cfb5-f8f9-44e1-bf2f-ec0ee3920134",
   "metadata": {
    "tags": []
   },
   "outputs": [
    {
     "data": {
      "text/plain": [
       "58350"
      ]
     },
     "execution_count": 4,
     "metadata": {},
     "output_type": "execute_result"
    }
   ],
   "source": [
    "len(network_df)"
   ]
  }
 ],
 "metadata": {
  "kernelspec": {
   "display_name": "Virtual Environment",
   "language": "python",
   "name": "myenv"
  },
  "language_info": {
   "codemirror_mode": {
    "name": "ipython",
    "version": 3
   },
   "file_extension": ".py",
   "mimetype": "text/x-python",
   "name": "python",
   "nbconvert_exporter": "python",
   "pygments_lexer": "ipython3",
   "version": "3.11.7"
  }
 },
 "nbformat": 4,
 "nbformat_minor": 5
}
